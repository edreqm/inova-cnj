{
 "cells": [
  {
   "cell_type": "code",
   "execution_count": 168,
   "metadata": {},
   "outputs": [],
   "source": [
    "import os\n",
    "import glob\n",
    "import json\n",
    "from sqlalchemy import create_engine\n",
    "import pandas as pd\n",
    "import psycopg2 as pg\n",
    "import pandas.io.sql as psql\n",
    "from pm4py.objects.log.util import dataframe_utils\n",
    "from pm4py.objects.conversion.log import converter as log_converter\n",
    "from pm4py.objects.log.exporter.xes import exporter as xes_exporter\n",
    "from pm4py.objects.log.importer.xes import importer as xes_importer\n",
    "from pm4py.objects.petri.exporter import exporter as pnml_exporter\n",
    "from pm4py.objects.petri.importer import importer as pnml_importer\n",
    "from pm4py.algo.discovery.inductive import algorithm as inductive_miner\n",
    "from pm4py.visualization.petrinet import visualizer as pn_visualizer\n",
    "from pm4py.evaluation.replay_fitness import evaluator as replay_fitness_evaluator\n"
   ]
  },
  {
   "cell_type": "code",
   "execution_count": 132,
   "metadata": {},
   "outputs": [],
   "source": [
    "DATABASES = {\n",
    "    'local':{\n",
    "        'NAME': 'Inova',\n",
    "        'USER': 'postgres',\n",
    "        'PASSWORD': 'postgres',\n",
    "        'HOST': 'localhost',\n",
    "        'PORT': 5432,\n",
    "    },\n",
    "    'dw_dev':{\n",
    "        'NAME': 'dw_dev',\n",
    "        'USER': 'minerador_processos',\n",
    "        'PASSWORD': '5448minerador',\n",
    "        'HOST': '10.3.192.85',\n",
    "        'PORT': 5448,\n",
    "    },\n",
    "}"
   ]
  },
  {
   "cell_type": "code",
   "execution_count": 133,
   "metadata": {},
   "outputs": [],
   "source": [
    "db = DATABASES['dw_dev']"
   ]
  },
  {
   "cell_type": "code",
   "execution_count": 134,
   "metadata": {},
   "outputs": [],
   "source": [
    "engine_string = \"postgresql+psycopg2://{user}:{password}@{host}:{port}/{database}\".format(\n",
    "    user = db['USER'],\n",
    "    password = db['PASSWORD'],\n",
    "    host = db['HOST'],\n",
    "    port = db['PORT'],\n",
    "    database = db['NAME'],\n",
    ")"
   ]
  },
  {
   "cell_type": "code",
   "execution_count": 135,
   "metadata": {},
   "outputs": [],
   "source": [
    "engine = create_engine(engine_string)"
   ]
  },
  {
   "cell_type": "markdown",
   "metadata": {},
   "source": [
    "## Exporta Logs"
   ]
  },
  {
   "cell_type": "code",
   "execution_count": 136,
   "metadata": {},
   "outputs": [],
   "source": [
    "def cria_sql(litigante,orgao) :\n",
    "    sql_str = f\"\"\"select \n",
    "        ml.nr_processo, \n",
    "        ml.dt_lancamento_movimento, \n",
    "        ml.ds_movimento_complementos\n",
    "    from \n",
    "        minerador_processos.mv_maiores_litigantes_arquivados ml\n",
    "        join (\n",
    "            -- k processos com menor duracao\n",
    "            select \n",
    "                ml2.nr_processo, \n",
    "                ml2.dias_duracao_processo\n",
    "            from \n",
    "                minerador_processos.mv_maiores_litigantes_arquivados ml2\n",
    "            where \n",
    "    \"\"\"\n",
    "    if len(litigante) > 0:\n",
    "        sql_str += f\"\"\"\n",
    "           nr_doc_principal_pessoa ilike '{litigante}%' and\n",
    "        \"\"\"\n",
    "\n",
    "    if len(orgao) > 0:\n",
    "        sql_str += f\"\"\"\n",
    "           cd_orgao_movimento = '{orgao}' and\n",
    "        \"\"\"\n",
    "    sql_str += \"\"\"\n",
    "                -- Ajuste aqui a classe processual\n",
    "                ml2.nr_classe_processual = 985\n",
    "                --and ml2.nr_processo = '00105530220165030111'\n",
    "            group by \n",
    "                ml2.nr_processo, \n",
    "                ml2.dias_duracao_processo\n",
    "            order by ml2.dias_duracao_processo asc\n",
    "            -- Ajuste aqui o numero de processos a sererm considerados\n",
    "            -- limit 500\n",
    "        ) melhores on melhores.nr_processo = ml.nr_processo\n",
    "    group by ml.nr_processo, ml.dt_lancamento_movimento, ml.ds_movimento_complementos\n",
    "    order by ml.nr_processo, ml.dt_lancamento_movimento\n",
    "    \"\"\"\n",
    "    return sql_str"
   ]
  },
  {
   "cell_type": "code",
   "execution_count": 137,
   "metadata": {},
   "outputs": [],
   "source": [
    "def obtem_varas_litigante(litigante):\n",
    "    varas = []\n",
    "    sql_str = f\"\"\"select \n",
    "        ml.cd_orgao\n",
    "    from \n",
    "        minerador_processos.mv_maiores_litigantes_arquivados ml\n",
    "        join (\n",
    "            -- k processos com menor duracao\n",
    "            select \n",
    "                ml2.nr_processo, \n",
    "                ml2.dias_duracao_processo\n",
    "            from \n",
    "                minerador_processos.mv_maiores_litigantes_arquivados ml2\n",
    "            where \n",
    "                -- Ajuste aqui o identificador do litigante\n",
    "                nr_doc_principal_pessoa ilike '{litigante}%' and\n",
    "                -- Ajuste aqui a classe processual\n",
    "                ml2.nr_classe_processual = 985\n",
    "                --and ml2.nr_processo = '00105530220165030111'\n",
    "            group by \n",
    "                ml2.nr_processo, \n",
    "                ml2.dias_duracao_processo\n",
    "            order by ml2.dias_duracao_processo asc\n",
    "            -- Ajuste aqui o numero de processos a sererm considerados\n",
    "            -- limit 500\n",
    "        ) melhores on melhores.nr_processo = ml.nr_processo\n",
    "    group by ml.cd_orgao\n",
    "    \"\"\"\n",
    "    df_varas = pd.read_sql(sql_str,engine)\n",
    "    varas = df_varas.values.tolist()\n",
    "    varas = [vara for sublist in varas for vara in sublist]\n",
    "    #print(varas)\n",
    "    return varas"
   ]
  },
  {
   "cell_type": "code",
   "execution_count": 138,
   "metadata": {},
   "outputs": [],
   "source": [
    "def exporta_log(df,caminho_exportacao_log):\n",
    "\n",
    "    df_log = pd.DataFrame()\n",
    "    df_log['case:concept:name'] = df['nr_processo'] \n",
    "    df_log['time:timestamp'] = df['dt_lancamento_movimento']\n",
    "    df_log['concept:name'] = df['ds_movimento_complementos']\n",
    "    #log_processos = dataframe_utils.convert_timestamp_columns_in_df(df_log)\n",
    "    log_processos = df_log\n",
    "    log_processos = log_processos.sort_values('time:timestamp')\n",
    "    event_log_processos = log_converter.apply(log_processos)\n",
    "    xes_exporter.apply(event_log_processos, caminho_exportacao_log)\n",
    "    return event_log_processos"
   ]
  },
  {
   "cell_type": "code",
   "execution_count": 139,
   "metadata": {},
   "outputs": [],
   "source": [
    "def exporta_log_varas(litigante,caminho_exportacao_log_litigante):\n",
    "    varas_litigante = obtem_varas_litigante(litigante)\n",
    "    for vara in varas_litigante:\n",
    "        #print(vara)\n",
    "        caminho_vara = caminho_exportacao_log_litigante+f'{vara}/'\n",
    "        if not os.path.exists(caminho_vara):\n",
    "            os.makedirs(caminho_vara)\n",
    "        sql_str = cria_sql(litigante,str(vara))\n",
    "        df = pd.read_sql(sql_str,engine)\n",
    "        event_log_processos = exporta_log(df,caminho_vara + f'{litigante}V{vara}.xes')"
   ]
  },
  {
   "cell_type": "code",
   "execution_count": 140,
   "metadata": {},
   "outputs": [],
   "source": [
    "def exporta_log_geral(caminho_exportacao):\n",
    "    if not os.path.exists(caminho_exportacao):\n",
    "        os.makedirs(caminho_exportacao)\n",
    "    sql_str = cria_sql(\"\",\"\")\n",
    "    df = pd.read_sql(sql_str,engine)\n",
    "    event_log_processos = exporta_log(df,caminho_exportacao + 'ProcessoGeral.xes')"
   ]
  },
  {
   "cell_type": "code",
   "execution_count": 142,
   "metadata": {},
   "outputs": [
    {
     "name": "stdout",
     "output_type": "stream",
     "text": [
      "Obtenção de logs\n",
      "60701190\n",
      "00360305\n"
     ]
    }
   ],
   "source": [
    "print('Obtenção de logs')\n",
    "caminho_exportacao = '/home/dataeng/Inova/AnaliseLitigantes/'\n",
    "\n",
    "exporta_log_geral(caminho_exportacao)\n",
    "\n",
    "litigantes = ['60701190','00360305']\n",
    "\n",
    "lista_caminho_eventos = []\n",
    "for litigante in litigantes:\n",
    "    print(litigante)\n",
    "    sql_str = cria_sql(litigante,'')\n",
    "    df = pd.read_sql(sql_str,engine)\n",
    "    caminho_exportacao_log = f'{caminho_exportacao}'+f'{litigante}/'\n",
    "    if not os.path.exists(caminho_exportacao_log):\n",
    "        os.makedirs(caminho_exportacao_log)\n",
    "    #lista_caminho_eventos.append(caminho_exportacao_log)\n",
    "    event_log_processos = exporta_log(df,caminho_exportacao_log + f'{litigante}.xes')\n",
    "    obtem_varas_litigante(litigante)\n",
    "    exporta_log_varas(litigante,caminho_exportacao_log)"
   ]
  },
  {
   "cell_type": "markdown",
   "metadata": {},
   "source": [
    "## Process Discovery"
   ]
  },
  {
   "cell_type": "code",
   "execution_count": 119,
   "metadata": {},
   "outputs": [],
   "source": [
    "# inductive miner\n",
    "def descobre_processo_im(event_log_processos,caminho_exportacao_processo,nome_arquivo):\n",
    "    net, initial_marking, final_marking = inductive_miner.apply(event_log_processos, variant=inductive_miner.Variants.IMf)\n",
    "    parameters = {pn_visualizer.Variants.WO_DECORATION.value.Parameters.FORMAT:\"png\"}\n",
    "    gviz = pn_visualizer.apply(net, initial_marking, final_marking, parameters=parameters) \n",
    "    pn_visualizer.save(gviz, caminho_exportacao_processo + f'{nome_arquivo}.png')\n",
    "    #pn_visualizer.view(gviz)\n",
    "    gviz = pn_visualizer.apply(net, initial_marking, final_marking, parameters=parameters, variant=pn_visualizer.Variants.FREQUENCY, log=event_log_processos)\n",
    "    pn_visualizer.save(gviz, caminho_exportacao_processo + f'{nome_arquivo}_frequencia.png')\n",
    "    gviz = pn_visualizer.apply(net, initial_marking, final_marking, parameters=parameters, variant=pn_visualizer.Variants.PERFORMANCE, log=event_log_processos)\n",
    "    pn_visualizer.save(gviz, caminho_exportacao_processo + f'{nome_arquivo}_desempenho.png')\n",
    "    # exporta processos\n",
    "    pnml_exporter.apply(net, initial_marking, caminho_exportacao_processo + f'{nome_arquivo}_petri_final.pnml', final_marking=final_marking)\n",
    "#    pn_visualizer.view(gviz)"
   ]
  },
  {
   "cell_type": "code",
   "execution_count": 120,
   "metadata": {},
   "outputs": [],
   "source": [
    "def descobre_processo_varas(litigante,caminho_log_litigante):\n",
    "    varas_litigante = obtem_varas_litigante(litigante)\n",
    "    for vara in varas_litigante:\n",
    "        #print(vara)\n",
    "        caminho_log_vara = caminho_log_litigante+f'{vara}/'\n",
    "        caminho_arquivo_vara = caminho_log_vara+f'{litigante}V{vara}.xes'\n",
    "        event_log_processos = xes_importer.apply(caminho_arquivo_vara)\n",
    "        descobre_processo_im(event_log_processos,caminho_log_vara,f'{litigante}V{vara}')"
   ]
  },
  {
   "cell_type": "code",
   "execution_count": null,
   "metadata": {},
   "outputs": [],
   "source": []
  },
  {
   "cell_type": "code",
   "execution_count": 143,
   "metadata": {},
   "outputs": [],
   "source": [
    "def descobre_processo_geral(caminho_exportacao):\n",
    "    caminho_arquivo_geral = caminho_exportacao+'ProcessoGeral.xes'\n",
    "    event_log_processos = xes_importer.apply(caminho_arquivo_geral)\n",
    "    descobre_processo_im(event_log_processos,caminho_exportacao,'ProcessoGeral')"
   ]
  },
  {
   "cell_type": "code",
   "execution_count": null,
   "metadata": {},
   "outputs": [],
   "source": [
    "print('Descoberta de processos')\n",
    "descobre_processo_geral(caminho_exportacao)\n",
    "caminhos_log = glob.glob(f'{caminho_exportacao}*/')\n",
    "\n",
    "for caminho_log in caminhos_log:\n",
    "    litigante = caminho_log.split('/')[-2]\n",
    "    print(litigante)\n",
    "    caminho_arquivo_log = f'{caminho_log}{litigante}.xes'\n",
    "    event_log_processos = xes_importer.apply(caminho_arquivo_log)\n",
    "    descobre_processo_im(event_log_processos,caminho_log,litigante)\n",
    "    descobre_processo_varas(litigante,caminho_log)"
   ]
  },
  {
   "cell_type": "markdown",
   "metadata": {},
   "source": [
    "# Fitness"
   ]
  },
  {
   "cell_type": "code",
   "execution_count": 173,
   "metadata": {},
   "outputs": [],
   "source": [
    "def calcula_fitness(net, initial_marking, final_marking, caminho_arquivo_log, nome_arquivo_fitness):\n",
    "    log = xes_importer.apply(caminho_arquivo_log)\n",
    "    fitness = replay_fitness_evaluator.apply(log, net, initial_marking, final_marking, variant=replay_fitness_evaluator.Variants.ALIGNMENT_BASED)\n",
    "    caminho_array = caminho_arquivo_log.split('/')\n",
    "    del(caminho_array[-1])\n",
    "    arquivo_fitness = \"/\".join(caminho_array)\n",
    "    with open(f'{arquivo_fitness}/{nome_arquivo_fitness}.json', 'w') as outfile:\n",
    "        json.dump(fitness, outfile)"
   ]
  },
  {
   "cell_type": "code",
   "execution_count": 174,
   "metadata": {},
   "outputs": [
    {
     "name": "stdout",
     "output_type": "stream",
     "text": [
      "Fitness de processos\n",
      "Fitness litigante x processo geral\n",
      "60701190\n"
     ]
    },
    {
     "data": {
      "application/vnd.jupyter.widget-view+json": {
       "model_id": "e6693bfa4bbc49a68073bbac46438b96",
       "version_major": 2,
       "version_minor": 0
      },
      "text/plain": [
       "HBox(children=(HTML(value='parsing log, completed traces :: '), FloatProgress(value=0.0, max=331.0), HTML(valu…"
      ]
     },
     "metadata": {},
     "output_type": "display_data"
    },
    {
     "name": "stdout",
     "output_type": "stream",
     "text": [
      "\n",
      "00360305\n"
     ]
    },
    {
     "data": {
      "application/vnd.jupyter.widget-view+json": {
       "model_id": "9400e2c451884b4fbf2cd6fd1bc5351f",
       "version_major": 2,
       "version_minor": 0
      },
      "text/plain": [
       "HBox(children=(HTML(value='parsing log, completed traces :: '), FloatProgress(value=0.0, max=298.0), HTML(valu…"
      ]
     },
     "metadata": {},
     "output_type": "display_data"
    },
    {
     "name": "stdout",
     "output_type": "stream",
     "text": [
      "\n"
     ]
    }
   ],
   "source": [
    "print('Fitness de processos')\n",
    "\n",
    "# Processos litigantes x processo geral\n",
    "\n",
    "print('Fitness litigante x processo geral')\n",
    "net, initial_marking, final_marking = pnml_importer.apply(f'{caminho_exportacao}ProcessoGeral_petri_final.pnml')\n",
    "\n",
    "caminhos_log = glob.glob(f'{caminho_exportacao}*/')\n",
    "for caminho_log in caminhos_log:\n",
    "    litigante = caminho_log.split('/')[-2]\n",
    "    print(litigante)\n",
    "    caminho_arquivo_log = f'{caminho_log}{litigante}.xes'\n",
    "    nome_arquivo_fitness = f'FitnessProcGeral{litigante}'\n",
    "    calcula_fitness(net, initial_marking, final_marking, caminho_arquivo_log, nome_arquivo_fitness)"
   ]
  },
  {
   "cell_type": "code",
   "execution_count": null,
   "metadata": {},
   "outputs": [],
   "source": [
    "def calcula_fitness_varas(litigante,caminho_log_litigante):\n",
    "    varas_litigante = obtem_varas_litigante(litigante)\n",
    "    for vara in varas_litigante:\n",
    "        #print(vara)\n",
    "        caminho_log_vara = caminho_log_litigante+f'{vara}/'\n",
    "        caminho_arquivo_vara = caminho_log_vara+f'{litigante}V{vara}.xes'\n",
    "        event_log_processos = xes_importer.apply(caminho_arquivo_vara)\n",
    "        descobre_processo_im(event_log_processos,caminho_log_vara,f'{litigante}V{vara}')"
   ]
  },
  {
   "cell_type": "markdown",
   "metadata": {},
   "source": [
    "# Alinment"
   ]
  },
  {
   "cell_type": "code",
   "execution_count": null,
   "metadata": {},
   "outputs": [],
   "source": [
    "# Alignment\n",
    "from pm4py.algo.discovery.inductive import algorithm as inductive_miner\n",
    "from pm4py.algo.conformance.alignments import algorithm as alignments\n",
    "\n",
    "net, initial_marking, final_marking = inductive_miner.apply(event_log_processos, variant=inductive_miner.Variants.IM)\n",
    "aligned_traces = alignments.apply_log(event_log_processos2, net, initial_marking, final_marking)\n",
    "print(aligned_traces)"
   ]
  },
  {
   "cell_type": "code",
   "execution_count": null,
   "metadata": {},
   "outputs": [],
   "source": []
  }
 ],
 "metadata": {
  "kernelspec": {
   "display_name": "Python 3",
   "language": "python",
   "name": "python3"
  },
  "language_info": {
   "codemirror_mode": {
    "name": "ipython",
    "version": 3
   },
   "file_extension": ".py",
   "mimetype": "text/x-python",
   "name": "python",
   "nbconvert_exporter": "python",
   "pygments_lexer": "ipython3",
   "version": "3.8.3"
  }
 },
 "nbformat": 4,
 "nbformat_minor": 4
}
